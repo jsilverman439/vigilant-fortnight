{
 "cells": [
  {
   "cell_type": "code",
   "execution_count": 113,
   "id": "128c2040",
   "metadata": {},
   "outputs": [],
   "source": [
    "import pandas as pd\n",
    "import numpy as np\n",
    "import matplotlib.pyplot as plt\n",
    "import seaborn as sns\n",
    "from sklearn.linear_model import LinearRegression\n",
    "from sklearn.model_selection import train_test_split\n",
    "from sklearn.preprocessing import StandardScaler\n",
    "from sklearn import metrics"
   ]
  },
  {
   "cell_type": "markdown",
   "id": "0a01ddfa",
   "metadata": {},
   "source": [
    "Data source: \"Google Stock Data 2024\", https://www.kaggle.com/datasets/umerhaddii/google-stock-data-2024"
   ]
  },
  {
   "cell_type": "code",
   "execution_count": 114,
   "id": "d462e9ca",
   "metadata": {},
   "outputs": [],
   "source": [
    "# Imports dataset\n",
    "df_google = pd.read_csv('/Users/jahansilverman/Documents/CSVs for Data Science Projects/GOOGL_2004-08-01_2024-12-18.csv', \n",
    "                        header=0)"
   ]
  },
  {
   "cell_type": "code",
   "execution_count": 115,
   "id": "fbc2f4d9",
   "metadata": {},
   "outputs": [
    {
     "data": {
      "text/html": [
       "<div>\n",
       "<style scoped>\n",
       "    .dataframe tbody tr th:only-of-type {\n",
       "        vertical-align: middle;\n",
       "    }\n",
       "\n",
       "    .dataframe tbody tr th {\n",
       "        vertical-align: top;\n",
       "    }\n",
       "\n",
       "    .dataframe thead th {\n",
       "        text-align: right;\n",
       "    }\n",
       "</style>\n",
       "<table border=\"1\" class=\"dataframe\">\n",
       "  <thead>\n",
       "    <tr style=\"text-align: right;\">\n",
       "      <th></th>\n",
       "      <th>Date</th>\n",
       "      <th>Open</th>\n",
       "      <th>High</th>\n",
       "      <th>Low</th>\n",
       "      <th>Close</th>\n",
       "      <th>Adj Close</th>\n",
       "      <th>Volume</th>\n",
       "    </tr>\n",
       "  </thead>\n",
       "  <tbody>\n",
       "    <tr>\n",
       "      <th>0</th>\n",
       "      <td>2004-08-19</td>\n",
       "      <td>2.502503</td>\n",
       "      <td>2.604104</td>\n",
       "      <td>2.401401</td>\n",
       "      <td>2.511011</td>\n",
       "      <td>2.501941</td>\n",
       "      <td>893181924</td>\n",
       "    </tr>\n",
       "    <tr>\n",
       "      <th>1</th>\n",
       "      <td>2004-08-20</td>\n",
       "      <td>2.527778</td>\n",
       "      <td>2.729730</td>\n",
       "      <td>2.515015</td>\n",
       "      <td>2.710460</td>\n",
       "      <td>2.700670</td>\n",
       "      <td>456686856</td>\n",
       "    </tr>\n",
       "    <tr>\n",
       "      <th>2</th>\n",
       "      <td>2004-08-23</td>\n",
       "      <td>2.771522</td>\n",
       "      <td>2.839840</td>\n",
       "      <td>2.728979</td>\n",
       "      <td>2.737738</td>\n",
       "      <td>2.727849</td>\n",
       "      <td>365122512</td>\n",
       "    </tr>\n",
       "    <tr>\n",
       "      <th>3</th>\n",
       "      <td>2004-08-24</td>\n",
       "      <td>2.783784</td>\n",
       "      <td>2.792793</td>\n",
       "      <td>2.591842</td>\n",
       "      <td>2.624374</td>\n",
       "      <td>2.614895</td>\n",
       "      <td>304946748</td>\n",
       "    </tr>\n",
       "    <tr>\n",
       "      <th>4</th>\n",
       "      <td>2004-08-25</td>\n",
       "      <td>2.626627</td>\n",
       "      <td>2.702703</td>\n",
       "      <td>2.599600</td>\n",
       "      <td>2.652653</td>\n",
       "      <td>2.643072</td>\n",
       "      <td>183772044</td>\n",
       "    </tr>\n",
       "  </tbody>\n",
       "</table>\n",
       "</div>"
      ],
      "text/plain": [
       "         Date      Open      High       Low     Close  Adj Close     Volume\n",
       "0  2004-08-19  2.502503  2.604104  2.401401  2.511011   2.501941  893181924\n",
       "1  2004-08-20  2.527778  2.729730  2.515015  2.710460   2.700670  456686856\n",
       "2  2004-08-23  2.771522  2.839840  2.728979  2.737738   2.727849  365122512\n",
       "3  2004-08-24  2.783784  2.792793  2.591842  2.624374   2.614895  304946748\n",
       "4  2004-08-25  2.626627  2.702703  2.599600  2.652653   2.643072  183772044"
      ]
     },
     "execution_count": 115,
     "metadata": {},
     "output_type": "execute_result"
    }
   ],
   "source": [
    "df_google.head()"
   ]
  },
  {
   "cell_type": "code",
   "execution_count": 116,
   "id": "6fdf947c",
   "metadata": {},
   "outputs": [
    {
     "data": {
      "text/plain": [
       "Date          object\n",
       "Open         float64\n",
       "High         float64\n",
       "Low          float64\n",
       "Close        float64\n",
       "Adj Close    float64\n",
       "Volume         int64\n",
       "dtype: object"
      ]
     },
     "execution_count": 116,
     "metadata": {},
     "output_type": "execute_result"
    }
   ],
   "source": [
    "df_google.dtypes"
   ]
  },
  {
   "cell_type": "code",
   "execution_count": 117,
   "id": "3a864128",
   "metadata": {},
   "outputs": [],
   "source": [
    "# Converts date column to datetime data type\n",
    "df_google['Date'] = pd.to_datetime(df_google['Date'])"
   ]
  },
  {
   "cell_type": "code",
   "execution_count": 118,
   "id": "cb01971d",
   "metadata": {},
   "outputs": [
    {
     "data": {
      "text/plain": [
       "Date         datetime64[ns]\n",
       "Open                float64\n",
       "High                float64\n",
       "Low                 float64\n",
       "Close               float64\n",
       "Adj Close           float64\n",
       "Volume                int64\n",
       "dtype: object"
      ]
     },
     "execution_count": 118,
     "metadata": {},
     "output_type": "execute_result"
    }
   ],
   "source": [
    "df_google.dtypes"
   ]
  },
  {
   "cell_type": "code",
   "execution_count": 119,
   "id": "fcfeb5f0",
   "metadata": {
    "scrolled": true
   },
   "outputs": [
    {
     "data": {
      "text/html": [
       "<div>\n",
       "<style scoped>\n",
       "    .dataframe tbody tr th:only-of-type {\n",
       "        vertical-align: middle;\n",
       "    }\n",
       "\n",
       "    .dataframe tbody tr th {\n",
       "        vertical-align: top;\n",
       "    }\n",
       "\n",
       "    .dataframe thead th {\n",
       "        text-align: right;\n",
       "    }\n",
       "</style>\n",
       "<table border=\"1\" class=\"dataframe\">\n",
       "  <thead>\n",
       "    <tr style=\"text-align: right;\">\n",
       "      <th></th>\n",
       "      <th>Open</th>\n",
       "      <th>High</th>\n",
       "      <th>Low</th>\n",
       "      <th>Close</th>\n",
       "      <th>Adj Close</th>\n",
       "      <th>Volume</th>\n",
       "    </tr>\n",
       "    <tr>\n",
       "      <th>Date</th>\n",
       "      <th></th>\n",
       "      <th></th>\n",
       "      <th></th>\n",
       "      <th></th>\n",
       "      <th></th>\n",
       "      <th></th>\n",
       "    </tr>\n",
       "  </thead>\n",
       "  <tbody>\n",
       "    <tr>\n",
       "      <th>2004-08-19</th>\n",
       "      <td>2.502503</td>\n",
       "      <td>2.604104</td>\n",
       "      <td>2.401401</td>\n",
       "      <td>2.511011</td>\n",
       "      <td>2.501941</td>\n",
       "      <td>893181924</td>\n",
       "    </tr>\n",
       "    <tr>\n",
       "      <th>2004-08-20</th>\n",
       "      <td>2.527778</td>\n",
       "      <td>2.729730</td>\n",
       "      <td>2.515015</td>\n",
       "      <td>2.710460</td>\n",
       "      <td>2.700670</td>\n",
       "      <td>456686856</td>\n",
       "    </tr>\n",
       "    <tr>\n",
       "      <th>2004-08-23</th>\n",
       "      <td>2.771522</td>\n",
       "      <td>2.839840</td>\n",
       "      <td>2.728979</td>\n",
       "      <td>2.737738</td>\n",
       "      <td>2.727849</td>\n",
       "      <td>365122512</td>\n",
       "    </tr>\n",
       "    <tr>\n",
       "      <th>2004-08-24</th>\n",
       "      <td>2.783784</td>\n",
       "      <td>2.792793</td>\n",
       "      <td>2.591842</td>\n",
       "      <td>2.624374</td>\n",
       "      <td>2.614895</td>\n",
       "      <td>304946748</td>\n",
       "    </tr>\n",
       "    <tr>\n",
       "      <th>2004-08-25</th>\n",
       "      <td>2.626627</td>\n",
       "      <td>2.702703</td>\n",
       "      <td>2.599600</td>\n",
       "      <td>2.652653</td>\n",
       "      <td>2.643072</td>\n",
       "      <td>183772044</td>\n",
       "    </tr>\n",
       "  </tbody>\n",
       "</table>\n",
       "</div>"
      ],
      "text/plain": [
       "                Open      High       Low     Close  Adj Close     Volume\n",
       "Date                                                                    \n",
       "2004-08-19  2.502503  2.604104  2.401401  2.511011   2.501941  893181924\n",
       "2004-08-20  2.527778  2.729730  2.515015  2.710460   2.700670  456686856\n",
       "2004-08-23  2.771522  2.839840  2.728979  2.737738   2.727849  365122512\n",
       "2004-08-24  2.783784  2.792793  2.591842  2.624374   2.614895  304946748\n",
       "2004-08-25  2.626627  2.702703  2.599600  2.652653   2.643072  183772044"
      ]
     },
     "execution_count": 119,
     "metadata": {},
     "output_type": "execute_result"
    }
   ],
   "source": [
    "# Sets date column as index\n",
    "df_google.set_index('Date', inplace=True)\n",
    "df_google.head()"
   ]
  },
  {
   "cell_type": "code",
   "execution_count": 120,
   "id": "daa4b126",
   "metadata": {},
   "outputs": [
    {
     "data": {
      "text/html": [
       "<div>\n",
       "<style scoped>\n",
       "    .dataframe tbody tr th:only-of-type {\n",
       "        vertical-align: middle;\n",
       "    }\n",
       "\n",
       "    .dataframe tbody tr th {\n",
       "        vertical-align: top;\n",
       "    }\n",
       "\n",
       "    .dataframe thead th {\n",
       "        text-align: right;\n",
       "    }\n",
       "</style>\n",
       "<table border=\"1\" class=\"dataframe\">\n",
       "  <thead>\n",
       "    <tr style=\"text-align: right;\">\n",
       "      <th></th>\n",
       "      <th>Open</th>\n",
       "      <th>High</th>\n",
       "      <th>Low</th>\n",
       "      <th>Close</th>\n",
       "      <th>Adj Close</th>\n",
       "      <th>Volume</th>\n",
       "      <th>Price Change</th>\n",
       "    </tr>\n",
       "    <tr>\n",
       "      <th>Date</th>\n",
       "      <th></th>\n",
       "      <th></th>\n",
       "      <th></th>\n",
       "      <th></th>\n",
       "      <th></th>\n",
       "      <th></th>\n",
       "      <th></th>\n",
       "    </tr>\n",
       "  </thead>\n",
       "  <tbody>\n",
       "    <tr>\n",
       "      <th>2004-08-19</th>\n",
       "      <td>2.502503</td>\n",
       "      <td>2.604104</td>\n",
       "      <td>2.401401</td>\n",
       "      <td>2.511011</td>\n",
       "      <td>2.501941</td>\n",
       "      <td>893181924</td>\n",
       "      <td>0.008508</td>\n",
       "    </tr>\n",
       "    <tr>\n",
       "      <th>2004-08-20</th>\n",
       "      <td>2.527778</td>\n",
       "      <td>2.729730</td>\n",
       "      <td>2.515015</td>\n",
       "      <td>2.710460</td>\n",
       "      <td>2.700670</td>\n",
       "      <td>456686856</td>\n",
       "      <td>0.182682</td>\n",
       "    </tr>\n",
       "    <tr>\n",
       "      <th>2004-08-23</th>\n",
       "      <td>2.771522</td>\n",
       "      <td>2.839840</td>\n",
       "      <td>2.728979</td>\n",
       "      <td>2.737738</td>\n",
       "      <td>2.727849</td>\n",
       "      <td>365122512</td>\n",
       "      <td>-0.033784</td>\n",
       "    </tr>\n",
       "    <tr>\n",
       "      <th>2004-08-24</th>\n",
       "      <td>2.783784</td>\n",
       "      <td>2.792793</td>\n",
       "      <td>2.591842</td>\n",
       "      <td>2.624374</td>\n",
       "      <td>2.614895</td>\n",
       "      <td>304946748</td>\n",
       "      <td>-0.159410</td>\n",
       "    </tr>\n",
       "    <tr>\n",
       "      <th>2004-08-25</th>\n",
       "      <td>2.626627</td>\n",
       "      <td>2.702703</td>\n",
       "      <td>2.599600</td>\n",
       "      <td>2.652653</td>\n",
       "      <td>2.643072</td>\n",
       "      <td>183772044</td>\n",
       "      <td>0.026026</td>\n",
       "    </tr>\n",
       "  </tbody>\n",
       "</table>\n",
       "</div>"
      ],
      "text/plain": [
       "                Open      High       Low     Close  Adj Close     Volume  \\\n",
       "Date                                                                       \n",
       "2004-08-19  2.502503  2.604104  2.401401  2.511011   2.501941  893181924   \n",
       "2004-08-20  2.527778  2.729730  2.515015  2.710460   2.700670  456686856   \n",
       "2004-08-23  2.771522  2.839840  2.728979  2.737738   2.727849  365122512   \n",
       "2004-08-24  2.783784  2.792793  2.591842  2.624374   2.614895  304946748   \n",
       "2004-08-25  2.626627  2.702703  2.599600  2.652653   2.643072  183772044   \n",
       "\n",
       "            Price Change  \n",
       "Date                      \n",
       "2004-08-19      0.008508  \n",
       "2004-08-20      0.182682  \n",
       "2004-08-23     -0.033784  \n",
       "2004-08-24     -0.159410  \n",
       "2004-08-25      0.026026  "
      ]
     },
     "execution_count": 120,
     "metadata": {},
     "output_type": "execute_result"
    }
   ],
   "source": [
    "# Creates column for price change for that day\n",
    "df_google['Price Change'] = df_google['Close'] - df_google['Open']\n",
    "df_google.head()"
   ]
  },
  {
   "cell_type": "code",
   "execution_count": 121,
   "id": "8082b659",
   "metadata": {},
   "outputs": [
    {
     "data": {
      "text/html": [
       "<div>\n",
       "<style scoped>\n",
       "    .dataframe tbody tr th:only-of-type {\n",
       "        vertical-align: middle;\n",
       "    }\n",
       "\n",
       "    .dataframe tbody tr th {\n",
       "        vertical-align: top;\n",
       "    }\n",
       "\n",
       "    .dataframe thead th {\n",
       "        text-align: right;\n",
       "    }\n",
       "</style>\n",
       "<table border=\"1\" class=\"dataframe\">\n",
       "  <thead>\n",
       "    <tr style=\"text-align: right;\">\n",
       "      <th></th>\n",
       "      <th>Open</th>\n",
       "      <th>High</th>\n",
       "      <th>Low</th>\n",
       "      <th>Close</th>\n",
       "      <th>Adj Close</th>\n",
       "      <th>Volume</th>\n",
       "      <th>Price Change</th>\n",
       "    </tr>\n",
       "  </thead>\n",
       "  <tbody>\n",
       "    <tr>\n",
       "      <th>count</th>\n",
       "      <td>5118.000000</td>\n",
       "      <td>5118.000000</td>\n",
       "      <td>5118.000000</td>\n",
       "      <td>5118.000000</td>\n",
       "      <td>5118.000000</td>\n",
       "      <td>5.118000e+03</td>\n",
       "      <td>5118.000000</td>\n",
       "    </tr>\n",
       "    <tr>\n",
       "      <th>mean</th>\n",
       "      <td>47.639701</td>\n",
       "      <td>48.139771</td>\n",
       "      <td>47.149358</td>\n",
       "      <td>47.654613</td>\n",
       "      <td>47.490963</td>\n",
       "      <td>1.157640e+08</td>\n",
       "      <td>0.014912</td>\n",
       "    </tr>\n",
       "    <tr>\n",
       "      <th>std</th>\n",
       "      <td>45.736050</td>\n",
       "      <td>46.241037</td>\n",
       "      <td>45.269941</td>\n",
       "      <td>45.763431</td>\n",
       "      <td>45.621100</td>\n",
       "      <td>1.470189e+08</td>\n",
       "      <td>0.924937</td>\n",
       "    </tr>\n",
       "    <tr>\n",
       "      <th>min</th>\n",
       "      <td>2.482232</td>\n",
       "      <td>2.546046</td>\n",
       "      <td>2.401401</td>\n",
       "      <td>2.502753</td>\n",
       "      <td>2.493713</td>\n",
       "      <td>9.312000e+06</td>\n",
       "      <td>-6.645004</td>\n",
       "    </tr>\n",
       "    <tr>\n",
       "      <th>25%</th>\n",
       "      <td>13.176239</td>\n",
       "      <td>13.307683</td>\n",
       "      <td>13.039790</td>\n",
       "      <td>13.182808</td>\n",
       "      <td>13.135192</td>\n",
       "      <td>3.064900e+07</td>\n",
       "      <td>-0.178679</td>\n",
       "    </tr>\n",
       "    <tr>\n",
       "      <th>50%</th>\n",
       "      <td>28.003501</td>\n",
       "      <td>28.195346</td>\n",
       "      <td>27.751500</td>\n",
       "      <td>27.969750</td>\n",
       "      <td>27.868724</td>\n",
       "      <td>5.752321e+07</td>\n",
       "      <td>0.002003</td>\n",
       "    </tr>\n",
       "    <tr>\n",
       "      <th>75%</th>\n",
       "      <td>62.746125</td>\n",
       "      <td>63.414874</td>\n",
       "      <td>62.220124</td>\n",
       "      <td>62.900626</td>\n",
       "      <td>62.673431</td>\n",
       "      <td>1.393135e+08</td>\n",
       "      <td>0.210005</td>\n",
       "    </tr>\n",
       "    <tr>\n",
       "      <th>max</th>\n",
       "      <td>197.250000</td>\n",
       "      <td>201.419998</td>\n",
       "      <td>194.979996</td>\n",
       "      <td>196.660004</td>\n",
       "      <td>196.660004</td>\n",
       "      <td>1.643023e+09</td>\n",
       "      <td>10.089996</td>\n",
       "    </tr>\n",
       "  </tbody>\n",
       "</table>\n",
       "</div>"
      ],
      "text/plain": [
       "              Open         High          Low        Close    Adj Close  \\\n",
       "count  5118.000000  5118.000000  5118.000000  5118.000000  5118.000000   \n",
       "mean     47.639701    48.139771    47.149358    47.654613    47.490963   \n",
       "std      45.736050    46.241037    45.269941    45.763431    45.621100   \n",
       "min       2.482232     2.546046     2.401401     2.502753     2.493713   \n",
       "25%      13.176239    13.307683    13.039790    13.182808    13.135192   \n",
       "50%      28.003501    28.195346    27.751500    27.969750    27.868724   \n",
       "75%      62.746125    63.414874    62.220124    62.900626    62.673431   \n",
       "max     197.250000   201.419998   194.979996   196.660004   196.660004   \n",
       "\n",
       "             Volume  Price Change  \n",
       "count  5.118000e+03   5118.000000  \n",
       "mean   1.157640e+08      0.014912  \n",
       "std    1.470189e+08      0.924937  \n",
       "min    9.312000e+06     -6.645004  \n",
       "25%    3.064900e+07     -0.178679  \n",
       "50%    5.752321e+07      0.002003  \n",
       "75%    1.393135e+08      0.210005  \n",
       "max    1.643023e+09     10.089996  "
      ]
     },
     "execution_count": 121,
     "metadata": {},
     "output_type": "execute_result"
    }
   ],
   "source": [
    "df_google.describe()"
   ]
  },
  {
   "cell_type": "code",
   "execution_count": 122,
   "id": "1eb99dae",
   "metadata": {},
   "outputs": [
    {
     "data": {
      "text/plain": [
       "<Axes: xlabel='Volume', ylabel='Close'>"
      ]
     },
     "execution_count": 122,
     "metadata": {},
     "output_type": "execute_result"
    },
    {
     "data": {
      "image/png": "[encoded data removed]",
      "text/plain": [
       "<Figure size 640x480 with 1 Axes>"
      ]
     },
     "metadata": {},
     "output_type": "display_data"
    }
   ],
   "source": [
    "# Trading Volume vs. Closing Price\n",
    "sns.scatterplot(data=df_google, x='Volume', y='Close')"
   ]
  },
  {
   "cell_type": "code",
   "execution_count": 123,
   "id": "ff434585",
   "metadata": {},
   "outputs": [
    {
     "data": {
      "text/plain": [
       "<Axes: xlabel='Volume', ylabel='Price Change'>"
      ]
     },
     "execution_count": 123,
     "metadata": {},
     "output_type": "execute_result"
    },
    {
     "data": {
      "image/png": "[encoded data removed]",
      "text/plain": [
       "<Figure size 640x480 with 1 Axes>"
      ]
     },
     "metadata": {},
     "output_type": "display_data"
    }
   ],
   "source": [
    "# Trading Volume vs. Price Change\n",
    "sns.scatterplot(data=df_google, x='Volume', y='Price Change', color='Orange')"
   ]
  },
  {
   "cell_type": "code",
   "execution_count": 124,
   "id": "ded20152",
   "metadata": {},
   "outputs": [
    {
     "data": {
      "text/html": [
       "<div>\n",
       "<style scoped>\n",
       "    .dataframe tbody tr th:only-of-type {\n",
       "        vertical-align: middle;\n",
       "    }\n",
       "\n",
       "    .dataframe tbody tr th {\n",
       "        vertical-align: top;\n",
       "    }\n",
       "\n",
       "    .dataframe thead th {\n",
       "        text-align: right;\n",
       "    }\n",
       "</style>\n",
       "<table border=\"1\" class=\"dataframe\">\n",
       "  <thead>\n",
       "    <tr style=\"text-align: right;\">\n",
       "      <th></th>\n",
       "      <th>Open</th>\n",
       "      <th>High</th>\n",
       "      <th>Low</th>\n",
       "      <th>Close</th>\n",
       "      <th>Adj Close</th>\n",
       "      <th>Volume</th>\n",
       "      <th>Price Change</th>\n",
       "      <th>ln(Volume)</th>\n",
       "    </tr>\n",
       "    <tr>\n",
       "      <th>Date</th>\n",
       "      <th></th>\n",
       "      <th></th>\n",
       "      <th></th>\n",
       "      <th></th>\n",
       "      <th></th>\n",
       "      <th></th>\n",
       "      <th></th>\n",
       "      <th></th>\n",
       "    </tr>\n",
       "  </thead>\n",
       "  <tbody>\n",
       "    <tr>\n",
       "      <th>2004-08-19</th>\n",
       "      <td>2.502503</td>\n",
       "      <td>2.604104</td>\n",
       "      <td>2.401401</td>\n",
       "      <td>2.511011</td>\n",
       "      <td>2.501941</td>\n",
       "      <td>893181924</td>\n",
       "      <td>0.008508</td>\n",
       "      <td>20.610301</td>\n",
       "    </tr>\n",
       "    <tr>\n",
       "      <th>2004-08-20</th>\n",
       "      <td>2.527778</td>\n",
       "      <td>2.729730</td>\n",
       "      <td>2.515015</td>\n",
       "      <td>2.710460</td>\n",
       "      <td>2.700670</td>\n",
       "      <td>456686856</td>\n",
       "      <td>0.182682</td>\n",
       "      <td>19.939508</td>\n",
       "    </tr>\n",
       "    <tr>\n",
       "      <th>2004-08-23</th>\n",
       "      <td>2.771522</td>\n",
       "      <td>2.839840</td>\n",
       "      <td>2.728979</td>\n",
       "      <td>2.737738</td>\n",
       "      <td>2.727849</td>\n",
       "      <td>365122512</td>\n",
       "      <td>-0.033784</td>\n",
       "      <td>19.715744</td>\n",
       "    </tr>\n",
       "    <tr>\n",
       "      <th>2004-08-24</th>\n",
       "      <td>2.783784</td>\n",
       "      <td>2.792793</td>\n",
       "      <td>2.591842</td>\n",
       "      <td>2.624374</td>\n",
       "      <td>2.614895</td>\n",
       "      <td>304946748</td>\n",
       "      <td>-0.159410</td>\n",
       "      <td>19.535648</td>\n",
       "    </tr>\n",
       "    <tr>\n",
       "      <th>2004-08-25</th>\n",
       "      <td>2.626627</td>\n",
       "      <td>2.702703</td>\n",
       "      <td>2.599600</td>\n",
       "      <td>2.652653</td>\n",
       "      <td>2.643072</td>\n",
       "      <td>183772044</td>\n",
       "      <td>0.026026</td>\n",
       "      <td>19.029207</td>\n",
       "    </tr>\n",
       "  </tbody>\n",
       "</table>\n",
       "</div>"
      ],
      "text/plain": [
       "                Open      High       Low     Close  Adj Close     Volume  \\\n",
       "Date                                                                       \n",
       "2004-08-19  2.502503  2.604104  2.401401  2.511011   2.501941  893181924   \n",
       "2004-08-20  2.527778  2.729730  2.515015  2.710460   2.700670  456686856   \n",
       "2004-08-23  2.771522  2.839840  2.728979  2.737738   2.727849  365122512   \n",
       "2004-08-24  2.783784  2.792793  2.591842  2.624374   2.614895  304946748   \n",
       "2004-08-25  2.626627  2.702703  2.599600  2.652653   2.643072  183772044   \n",
       "\n",
       "            Price Change  ln(Volume)  \n",
       "Date                                  \n",
       "2004-08-19      0.008508   20.610301  \n",
       "2004-08-20      0.182682   19.939508  \n",
       "2004-08-23     -0.033784   19.715744  \n",
       "2004-08-24     -0.159410   19.535648  \n",
       "2004-08-25      0.026026   19.029207  "
      ]
     },
     "execution_count": 124,
     "metadata": {},
     "output_type": "execute_result"
    }
   ],
   "source": [
    "# Creates column for the natural log of Trading Volume\n",
    "df_google['ln(Volume)'] = np.log(df_google['Volume'])\n",
    "df_google.head()"
   ]
  },
  {
   "cell_type": "code",
   "execution_count": 125,
   "id": "d9f79ef2",
   "metadata": {},
   "outputs": [
    {
     "data": {
      "text/plain": [
       "<Axes: xlabel='Date', ylabel='ln(Volume)'>"
      ]
     },
     "execution_count": 125,
     "metadata": {},
     "output_type": "execute_result"
    },
    {
     "data": {
      "image/png": "[encoded data removed]",
      "text/plain": [
       "<Figure size 640x480 with 1 Axes>"
      ]
     },
     "metadata": {},
     "output_type": "display_data"
    }
   ],
   "source": [
    "# ln(Volume) over time\n",
    "sns.lineplot(x='Date', y='ln(Volume)', data = df_google)"
   ]
  },
  {
   "cell_type": "code",
   "execution_count": 126,
   "id": "dc9f7582",
   "metadata": {},
   "outputs": [
    {
     "data": {
      "text/plain": [
       "<Axes: xlabel='Close', ylabel='ln(Volume)'>"
      ]
     },
     "execution_count": 126,
     "metadata": {},
     "output_type": "execute_result"
    },
    {
     "data": {
      "image/png": "[encoded data removed]",
      "text/plain": [
       "<Figure size 640x480 with 1 Axes>"
      ]
     },
     "metadata": {},
     "output_type": "display_data"
    }
   ],
   "source": [
    "# Regression plot with Closing Price on x-axis and ln(Volume) on y-axis\n",
    "sns.regplot(x='Close', y='ln(Volume)', data = df_google, color = 'Orange')"
   ]
  },
  {
   "cell_type": "code",
   "execution_count": 127,
   "id": "0b53c8e8",
   "metadata": {},
   "outputs": [
    {
     "data": {
      "text/plain": [
       "<Axes: xlabel='Date', ylabel='Close'>"
      ]
     },
     "execution_count": 127,
     "metadata": {},
     "output_type": "execute_result"
    },
    {
     "data": {
      "image/png": "[encoded data removed]",
      "text/plain": [
       "<Figure size 640x480 with 1 Axes>"
      ]
     },
     "metadata": {},
     "output_type": "display_data"
    }
   ],
   "source": [
    "# Closing Price over time\n",
    "sns.lineplot(x='Date', y='Close', data = df_google)"
   ]
  },
  {
   "cell_type": "code",
   "execution_count": 128,
   "id": "a94ea8c0",
   "metadata": {},
   "outputs": [
    {
     "data": {
      "text/html": [
       "<div>\n",
       "<style scoped>\n",
       "    .dataframe tbody tr th:only-of-type {\n",
       "        vertical-align: middle;\n",
       "    }\n",
       "\n",
       "    .dataframe tbody tr th {\n",
       "        vertical-align: top;\n",
       "    }\n",
       "\n",
       "    .dataframe thead th {\n",
       "        text-align: right;\n",
       "    }\n",
       "</style>\n",
       "<table border=\"1\" class=\"dataframe\">\n",
       "  <thead>\n",
       "    <tr style=\"text-align: right;\">\n",
       "      <th></th>\n",
       "      <th>Open</th>\n",
       "      <th>High</th>\n",
       "      <th>Low</th>\n",
       "      <th>Close</th>\n",
       "      <th>Adj Close</th>\n",
       "      <th>Volume</th>\n",
       "      <th>Price Change</th>\n",
       "      <th>ln(Volume)</th>\n",
       "      <th>Price Increase or Decrease</th>\n",
       "    </tr>\n",
       "    <tr>\n",
       "      <th>Date</th>\n",
       "      <th></th>\n",
       "      <th></th>\n",
       "      <th></th>\n",
       "      <th></th>\n",
       "      <th></th>\n",
       "      <th></th>\n",
       "      <th></th>\n",
       "      <th></th>\n",
       "      <th></th>\n",
       "    </tr>\n",
       "  </thead>\n",
       "  <tbody>\n",
       "    <tr>\n",
       "      <th>2004-08-19</th>\n",
       "      <td>2.502503</td>\n",
       "      <td>2.604104</td>\n",
       "      <td>2.401401</td>\n",
       "      <td>2.511011</td>\n",
       "      <td>2.501941</td>\n",
       "      <td>893181924</td>\n",
       "      <td>0.008508</td>\n",
       "      <td>20.610301</td>\n",
       "      <td>Price Increase</td>\n",
       "    </tr>\n",
       "    <tr>\n",
       "      <th>2004-08-20</th>\n",
       "      <td>2.527778</td>\n",
       "      <td>2.729730</td>\n",
       "      <td>2.515015</td>\n",
       "      <td>2.710460</td>\n",
       "      <td>2.700670</td>\n",
       "      <td>456686856</td>\n",
       "      <td>0.182682</td>\n",
       "      <td>19.939508</td>\n",
       "      <td>Price Increase</td>\n",
       "    </tr>\n",
       "    <tr>\n",
       "      <th>2004-08-23</th>\n",
       "      <td>2.771522</td>\n",
       "      <td>2.839840</td>\n",
       "      <td>2.728979</td>\n",
       "      <td>2.737738</td>\n",
       "      <td>2.727849</td>\n",
       "      <td>365122512</td>\n",
       "      <td>-0.033784</td>\n",
       "      <td>19.715744</td>\n",
       "      <td>Price Decrease</td>\n",
       "    </tr>\n",
       "    <tr>\n",
       "      <th>2004-08-24</th>\n",
       "      <td>2.783784</td>\n",
       "      <td>2.792793</td>\n",
       "      <td>2.591842</td>\n",
       "      <td>2.624374</td>\n",
       "      <td>2.614895</td>\n",
       "      <td>304946748</td>\n",
       "      <td>-0.159410</td>\n",
       "      <td>19.535648</td>\n",
       "      <td>Price Decrease</td>\n",
       "    </tr>\n",
       "    <tr>\n",
       "      <th>2004-08-25</th>\n",
       "      <td>2.626627</td>\n",
       "      <td>2.702703</td>\n",
       "      <td>2.599600</td>\n",
       "      <td>2.652653</td>\n",
       "      <td>2.643072</td>\n",
       "      <td>183772044</td>\n",
       "      <td>0.026026</td>\n",
       "      <td>19.029207</td>\n",
       "      <td>Price Increase</td>\n",
       "    </tr>\n",
       "  </tbody>\n",
       "</table>\n",
       "</div>"
      ],
      "text/plain": [
       "                Open      High       Low     Close  Adj Close     Volume  \\\n",
       "Date                                                                       \n",
       "2004-08-19  2.502503  2.604104  2.401401  2.511011   2.501941  893181924   \n",
       "2004-08-20  2.527778  2.729730  2.515015  2.710460   2.700670  456686856   \n",
       "2004-08-23  2.771522  2.839840  2.728979  2.737738   2.727849  365122512   \n",
       "2004-08-24  2.783784  2.792793  2.591842  2.624374   2.614895  304946748   \n",
       "2004-08-25  2.626627  2.702703  2.599600  2.652653   2.643072  183772044   \n",
       "\n",
       "            Price Change  ln(Volume) Price Increase or Decrease  \n",
       "Date                                                             \n",
       "2004-08-19      0.008508   20.610301             Price Increase  \n",
       "2004-08-20      0.182682   19.939508             Price Increase  \n",
       "2004-08-23     -0.033784   19.715744             Price Decrease  \n",
       "2004-08-24     -0.159410   19.535648             Price Decrease  \n",
       "2004-08-25      0.026026   19.029207             Price Increase  "
      ]
     },
     "execution_count": 128,
     "metadata": {},
     "output_type": "execute_result"
    }
   ],
   "source": [
    "# Creates column for whether there was a price increase or price decrease for that day\n",
    "df_google['Price Increase or Decrease'] = np.where(df_google['Price Change'] > 0, 'Price Increase', \n",
    "                                                   'Price Decrease')\n",
    "df_google.head()"
   ]
  },
  {
   "cell_type": "code",
   "execution_count": 129,
   "id": "ac75585f",
   "metadata": {},
   "outputs": [
    {
     "name": "stdout",
     "output_type": "stream",
     "text": [
      "Price Increase    2583\n",
      "Price Decrease    2535\n",
      "Name: Price Increase or Decrease, dtype: int64\n"
     ]
    },
    {
     "data": {
      "image/png": "[encoded data removed]",
      "text/plain": [
       "<Figure size 640x480 with 1 Axes>"
      ]
     },
     "metadata": {},
     "output_type": "display_data"
    }
   ],
   "source": [
    "# Counts of price increases and price decreases\n",
    "counts = df_google['Price Increase or Decrease'].value_counts()\n",
    "print(counts)\n",
    "\n",
    "sns.countplot(data=df_google, x='Price Increase or Decrease')\n",
    "plt.ylabel('Count')\n",
    "plt.show()"
   ]
  },
  {
   "cell_type": "code",
   "execution_count": 130,
   "id": "b99e9104",
   "metadata": {},
   "outputs": [
    {
     "data": {
      "text/html": [
       "<div>\n",
       "<style scoped>\n",
       "    .dataframe tbody tr th:only-of-type {\n",
       "        vertical-align: middle;\n",
       "    }\n",
       "\n",
       "    .dataframe tbody tr th {\n",
       "        vertical-align: top;\n",
       "    }\n",
       "\n",
       "    .dataframe thead th {\n",
       "        text-align: right;\n",
       "    }\n",
       "</style>\n",
       "<table border=\"1\" class=\"dataframe\">\n",
       "  <thead>\n",
       "    <tr style=\"text-align: right;\">\n",
       "      <th></th>\n",
       "      <th>Open</th>\n",
       "      <th>High</th>\n",
       "      <th>Low</th>\n",
       "      <th>Close</th>\n",
       "      <th>Adj Close</th>\n",
       "      <th>Volume</th>\n",
       "      <th>Price Change</th>\n",
       "      <th>ln(Volume)</th>\n",
       "      <th>Price Increase or Decrease</th>\n",
       "      <th>Price Increase Ind</th>\n",
       "      <th>Price Decrease Ind</th>\n",
       "    </tr>\n",
       "    <tr>\n",
       "      <th>Date</th>\n",
       "      <th></th>\n",
       "      <th></th>\n",
       "      <th></th>\n",
       "      <th></th>\n",
       "      <th></th>\n",
       "      <th></th>\n",
       "      <th></th>\n",
       "      <th></th>\n",
       "      <th></th>\n",
       "      <th></th>\n",
       "      <th></th>\n",
       "    </tr>\n",
       "  </thead>\n",
       "  <tbody>\n",
       "    <tr>\n",
       "      <th>2004-08-19</th>\n",
       "      <td>2.502503</td>\n",
       "      <td>2.604104</td>\n",
       "      <td>2.401401</td>\n",
       "      <td>2.511011</td>\n",
       "      <td>2.501941</td>\n",
       "      <td>893181924</td>\n",
       "      <td>0.008508</td>\n",
       "      <td>20.610301</td>\n",
       "      <td>Price Increase</td>\n",
       "      <td>1</td>\n",
       "      <td>0</td>\n",
       "    </tr>\n",
       "    <tr>\n",
       "      <th>2004-08-20</th>\n",
       "      <td>2.527778</td>\n",
       "      <td>2.729730</td>\n",
       "      <td>2.515015</td>\n",
       "      <td>2.710460</td>\n",
       "      <td>2.700670</td>\n",
       "      <td>456686856</td>\n",
       "      <td>0.182682</td>\n",
       "      <td>19.939508</td>\n",
       "      <td>Price Increase</td>\n",
       "      <td>1</td>\n",
       "      <td>0</td>\n",
       "    </tr>\n",
       "    <tr>\n",
       "      <th>2004-08-23</th>\n",
       "      <td>2.771522</td>\n",
       "      <td>2.839840</td>\n",
       "      <td>2.728979</td>\n",
       "      <td>2.737738</td>\n",
       "      <td>2.727849</td>\n",
       "      <td>365122512</td>\n",
       "      <td>-0.033784</td>\n",
       "      <td>19.715744</td>\n",
       "      <td>Price Decrease</td>\n",
       "      <td>0</td>\n",
       "      <td>1</td>\n",
       "    </tr>\n",
       "    <tr>\n",
       "      <th>2004-08-24</th>\n",
       "      <td>2.783784</td>\n",
       "      <td>2.792793</td>\n",
       "      <td>2.591842</td>\n",
       "      <td>2.624374</td>\n",
       "      <td>2.614895</td>\n",
       "      <td>304946748</td>\n",
       "      <td>-0.159410</td>\n",
       "      <td>19.535648</td>\n",
       "      <td>Price Decrease</td>\n",
       "      <td>0</td>\n",
       "      <td>1</td>\n",
       "    </tr>\n",
       "    <tr>\n",
       "      <th>2004-08-25</th>\n",
       "      <td>2.626627</td>\n",
       "      <td>2.702703</td>\n",
       "      <td>2.599600</td>\n",
       "      <td>2.652653</td>\n",
       "      <td>2.643072</td>\n",
       "      <td>183772044</td>\n",
       "      <td>0.026026</td>\n",
       "      <td>19.029207</td>\n",
       "      <td>Price Increase</td>\n",
       "      <td>1</td>\n",
       "      <td>0</td>\n",
       "    </tr>\n",
       "  </tbody>\n",
       "</table>\n",
       "</div>"
      ],
      "text/plain": [
       "                Open      High       Low     Close  Adj Close     Volume  \\\n",
       "Date                                                                       \n",
       "2004-08-19  2.502503  2.604104  2.401401  2.511011   2.501941  893181924   \n",
       "2004-08-20  2.527778  2.729730  2.515015  2.710460   2.700670  456686856   \n",
       "2004-08-23  2.771522  2.839840  2.728979  2.737738   2.727849  365122512   \n",
       "2004-08-24  2.783784  2.792793  2.591842  2.624374   2.614895  304946748   \n",
       "2004-08-25  2.626627  2.702703  2.599600  2.652653   2.643072  183772044   \n",
       "\n",
       "            Price Change  ln(Volume) Price Increase or Decrease  \\\n",
       "Date                                                              \n",
       "2004-08-19      0.008508   20.610301             Price Increase   \n",
       "2004-08-20      0.182682   19.939508             Price Increase   \n",
       "2004-08-23     -0.033784   19.715744             Price Decrease   \n",
       "2004-08-24     -0.159410   19.535648             Price Decrease   \n",
       "2004-08-25      0.026026   19.029207             Price Increase   \n",
       "\n",
       "            Price Increase Ind  Price Decrease Ind  \n",
       "Date                                                \n",
       "2004-08-19                   1                   0  \n",
       "2004-08-20                   1                   0  \n",
       "2004-08-23                   0                   1  \n",
       "2004-08-24                   0                   1  \n",
       "2004-08-25                   1                   0  "
      ]
     },
     "execution_count": 130,
     "metadata": {},
     "output_type": "execute_result"
    }
   ],
   "source": [
    "# Creates dummy variable columns for Price Increase and Price Decrease\n",
    "df_google['Price Increase Ind'] = np.where(df_google['Price Increase or Decrease'] == 'Price Increase', 1, 0)\n",
    "df_google['Price Decrease Ind'] = np.where(df_google['Price Increase or Decrease'] == 'Price Decrease', 1, 0)\n",
    "df_google.head()"
   ]
  },
  {
   "cell_type": "code",
   "execution_count": 131,
   "id": "4b15b355",
   "metadata": {},
   "outputs": [],
   "source": [
    "# Creates x and y variables for linear regression\n",
    "x = df_google[['Price Change', 'Open', 'Close', 'High', 'Low', 'Price Increase Ind', 'Price Decrease Ind']]\n",
    "y = df_google['ln(Volume)']"
   ]
  },
  {
   "cell_type": "code",
   "execution_count": 132,
   "id": "2a719bc5",
   "metadata": {},
   "outputs": [],
   "source": [
    "# Splits dataset into training portion and testing portion\n",
    "x_train, x_test, y_train, y_test = train_test_split(x, y, test_size=0.2, random_state=0)"
   ]
  },
  {
   "cell_type": "code",
   "execution_count": 133,
   "id": "fd087208",
   "metadata": {},
   "outputs": [
    {
     "name": "stdout",
     "output_type": "stream",
     "text": [
      "[[ 0.08809504  0.95732541  0.95916778 ...  0.9642152   0.99464064\n",
      "  -0.99464064]\n",
      " [ 0.40051155 -0.11135264 -0.10342011 ... -0.10316254  0.99464064\n",
      "  -0.99464064]\n",
      " [ 0.01691878 -0.528956   -0.52867299 ... -0.52797962  0.99464064\n",
      "  -0.99464064]\n",
      " ...\n",
      " [-0.07180061 -0.722221   -0.72371682 ... -0.72149009 -1.00538823\n",
      "   1.00538823]\n",
      " [ 0.26036513 -0.44731395 -0.44219441 ... -0.44267981  0.99464064\n",
      "  -0.99464064]\n",
      " [-0.36226602 -0.42228878 -0.42951579 ... -0.4245213  -1.00538823\n",
      "   1.00538823]]\n"
     ]
    }
   ],
   "source": [
    "# Feature scaling for input variables\n",
    "sc_x = StandardScaler()\n",
    "x_train = sc_x.fit_transform(x_train)\n",
    "x_test = sc_x.fit_transform(x_test)\n",
    "print(x_train)"
   ]
  },
  {
   "cell_type": "code",
   "execution_count": 134,
   "id": "d1d836fa",
   "metadata": {},
   "outputs": [
    {
     "data": {
      "text/html": [
       "<style>#sk-container-id-5 {color: black;background-color: white;}#sk-container-id-5 pre{padding: 0;}#sk-container-id-5 div.sk-toggleable {background-color: white;}#sk-container-id-5 label.sk-toggleable__label {cursor: pointer;display: block;width: 100%;margin-bottom: 0;padding: 0.3em;box-sizing: border-box;text-align: center;}#sk-container-id-5 label.sk-toggleable__label-arrow:before {content: \"▸\";float: left;margin-right: 0.25em;color: #696969;}#sk-container-id-5 label.sk-toggleable__label-arrow:hover:before {color: black;}#sk-container-id-5 div.sk-estimator:hover label.sk-toggleable__label-arrow:before {color: black;}#sk-container-id-5 div.sk-toggleable__content {max-height: 0;max-width: 0;overflow: hidden;text-align: left;background-color: #f0f8ff;}#sk-container-id-5 div.sk-toggleable__content pre {margin: 0.2em;color: black;border-radius: 0.25em;background-color: #f0f8ff;}#sk-container-id-5 input.sk-toggleable__control:checked~div.sk-toggleable__content {max-height: 200px;max-width: 100%;overflow: auto;}#sk-container-id-5 input.sk-toggleable__control:checked~label.sk-toggleable__label-arrow:before {content: \"▾\";}#sk-container-id-5 div.sk-estimator input.sk-toggleable__control:checked~label.sk-toggleable__label {background-color: #d4ebff;}#sk-container-id-5 div.sk-label input.sk-toggleable__control:checked~label.sk-toggleable__label {background-color: #d4ebff;}#sk-container-id-5 input.sk-hidden--visually {border: 0;clip: rect(1px 1px 1px 1px);clip: rect(1px, 1px, 1px, 1px);height: 1px;margin: -1px;overflow: hidden;padding: 0;position: absolute;width: 1px;}#sk-container-id-5 div.sk-estimator {font-family: monospace;background-color: #f0f8ff;border: 1px dotted black;border-radius: 0.25em;box-sizing: border-box;margin-bottom: 0.5em;}#sk-container-id-5 div.sk-estimator:hover {background-color: #d4ebff;}#sk-container-id-5 div.sk-parallel-item::after {content: \"\";width: 100%;border-bottom: 1px solid gray;flex-grow: 1;}#sk-container-id-5 div.sk-label:hover label.sk-toggleable__label {background-color: #d4ebff;}#sk-container-id-5 div.sk-serial::before {content: \"\";position: absolute;border-left: 1px solid gray;box-sizing: border-box;top: 0;bottom: 0;left: 50%;z-index: 0;}#sk-container-id-5 div.sk-serial {display: flex;flex-direction: column;align-items: center;background-color: white;padding-right: 0.2em;padding-left: 0.2em;position: relative;}#sk-container-id-5 div.sk-item {position: relative;z-index: 1;}#sk-container-id-5 div.sk-parallel {display: flex;align-items: stretch;justify-content: center;background-color: white;position: relative;}#sk-container-id-5 div.sk-item::before, #sk-container-id-5 div.sk-parallel-item::before {content: \"\";position: absolute;border-left: 1px solid gray;box-sizing: border-box;top: 0;bottom: 0;left: 50%;z-index: -1;}#sk-container-id-5 div.sk-parallel-item {display: flex;flex-direction: column;z-index: 1;position: relative;background-color: white;}#sk-container-id-5 div.sk-parallel-item:first-child::after {align-self: flex-end;width: 50%;}#sk-container-id-5 div.sk-parallel-item:last-child::after {align-self: flex-start;width: 50%;}#sk-container-id-5 div.sk-parallel-item:only-child::after {width: 0;}#sk-container-id-5 div.sk-dashed-wrapped {border: 1px dashed gray;margin: 0 0.4em 0.5em 0.4em;box-sizing: border-box;padding-bottom: 0.4em;background-color: white;}#sk-container-id-5 div.sk-label label {font-family: monospace;font-weight: bold;display: inline-block;line-height: 1.2em;}#sk-container-id-5 div.sk-label-container {text-align: center;}#sk-container-id-5 div.sk-container {/* jupyter's `normalize.less` sets `[hidden] { display: none; }` but bootstrap.min.css set `[hidden] { display: none !important; }` so we also need the `!important` here to be able to override the default hidden behavior on the sphinx rendered scikit-learn.org. See: https://github.com/scikit-learn/scikit-learn/issues/21755 */display: inline-block !important;position: relative;}#sk-container-id-5 div.sk-text-repr-fallback {display: none;}</style><div id=\"sk-container-id-5\" class=\"sk-top-container\"><div class=\"sk-text-repr-fallback\"><pre>LinearRegression()</pre><b>In a Jupyter environment, please rerun this cell to show the HTML representation or trust the notebook. <br />On GitHub, the HTML representation is unable to render, please try loading this page with nbviewer.org.</b></div><div class=\"sk-container\" hidden><div class=\"sk-item\"><div class=\"sk-estimator sk-toggleable\"><input class=\"sk-toggleable__control sk-hidden--visually\" id=\"sk-estimator-id-5\" type=\"checkbox\" checked><label for=\"sk-estimator-id-5\" class=\"sk-toggleable__label sk-toggleable__label-arrow\">LinearRegression</label><div class=\"sk-toggleable__content\"><pre>LinearRegression()</pre></div></div></div></div></div>"
      ],
      "text/plain": [
       "LinearRegression()"
      ]
     },
     "execution_count": 134,
     "metadata": {},
     "output_type": "execute_result"
    }
   ],
   "source": [
    "# Builds linear regression model\n",
    "regressor = LinearRegression()\n",
    "regressor.fit(x_train, y_train)"
   ]
  },
  {
   "cell_type": "code",
   "execution_count": 135,
   "id": "c886f02c",
   "metadata": {},
   "outputs": [
    {
     "data": {
      "text/html": [
       "<div>\n",
       "<style scoped>\n",
       "    .dataframe tbody tr th:only-of-type {\n",
       "        vertical-align: middle;\n",
       "    }\n",
       "\n",
       "    .dataframe tbody tr th {\n",
       "        vertical-align: top;\n",
       "    }\n",
       "\n",
       "    .dataframe thead th {\n",
       "        text-align: right;\n",
       "    }\n",
       "</style>\n",
       "<table border=\"1\" class=\"dataframe\">\n",
       "  <thead>\n",
       "    <tr style=\"text-align: right;\">\n",
       "      <th></th>\n",
       "      <th>Coefficient</th>\n",
       "    </tr>\n",
       "  </thead>\n",
       "  <tbody>\n",
       "    <tr>\n",
       "      <th>Price Change</th>\n",
       "      <td>0.002680</td>\n",
       "    </tr>\n",
       "    <tr>\n",
       "      <th>Open</th>\n",
       "      <td>-0.178703</td>\n",
       "    </tr>\n",
       "    <tr>\n",
       "      <th>Close</th>\n",
       "      <td>-0.178667</td>\n",
       "    </tr>\n",
       "    <tr>\n",
       "      <th>High</th>\n",
       "      <td>14.731500</td>\n",
       "    </tr>\n",
       "    <tr>\n",
       "      <th>Low</th>\n",
       "      <td>-15.012326</td>\n",
       "    </tr>\n",
       "    <tr>\n",
       "      <th>Price Increase Ind</th>\n",
       "      <td>-0.005063</td>\n",
       "    </tr>\n",
       "    <tr>\n",
       "      <th>Price Decrease Ind</th>\n",
       "      <td>0.005063</td>\n",
       "    </tr>\n",
       "  </tbody>\n",
       "</table>\n",
       "</div>"
      ],
      "text/plain": [
       "                    Coefficient\n",
       "Price Change           0.002680\n",
       "Open                  -0.178703\n",
       "Close                 -0.178667\n",
       "High                  14.731500\n",
       "Low                  -15.012326\n",
       "Price Increase Ind    -0.005063\n",
       "Price Decrease Ind     0.005063"
      ]
     },
     "execution_count": 135,
     "metadata": {},
     "output_type": "execute_result"
    }
   ],
   "source": [
    "# Coefficients table\n",
    "coeff_df_google = pd.DataFrame(regressor.coef_, x.columns, columns=['Coefficient'])\n",
    "coeff_df_google"
   ]
  },
  {
   "cell_type": "code",
   "execution_count": 136,
   "id": "8e4b8b14",
   "metadata": {},
   "outputs": [],
   "source": [
    "# Makes predictions on the test set\n",
    "y_pred = regressor.predict(x_test)"
   ]
  },
  {
   "cell_type": "code",
   "execution_count": 137,
   "id": "bcd5e953",
   "metadata": {},
   "outputs": [
    {
     "data": {
      "text/html": [
       "<div>\n",
       "<style scoped>\n",
       "    .dataframe tbody tr th:only-of-type {\n",
       "        vertical-align: middle;\n",
       "    }\n",
       "\n",
       "    .dataframe tbody tr th {\n",
       "        vertical-align: top;\n",
       "    }\n",
       "\n",
       "    .dataframe thead th {\n",
       "        text-align: right;\n",
       "    }\n",
       "</style>\n",
       "<table border=\"1\" class=\"dataframe\">\n",
       "  <thead>\n",
       "    <tr style=\"text-align: right;\">\n",
       "      <th></th>\n",
       "      <th>Actual ln(Volume)</th>\n",
       "      <th>Predicted ln(Volume)</th>\n",
       "    </tr>\n",
       "    <tr>\n",
       "      <th>Date</th>\n",
       "      <th></th>\n",
       "      <th></th>\n",
       "    </tr>\n",
       "  </thead>\n",
       "  <tbody>\n",
       "    <tr>\n",
       "      <th>2004-10-19</th>\n",
       "      <td>19.707700</td>\n",
       "      <td>18.723287</td>\n",
       "    </tr>\n",
       "    <tr>\n",
       "      <th>2014-01-14</th>\n",
       "      <td>18.412696</td>\n",
       "      <td>18.325842</td>\n",
       "    </tr>\n",
       "    <tr>\n",
       "      <th>2011-12-23</th>\n",
       "      <td>17.877502</td>\n",
       "      <td>18.442172</td>\n",
       "    </tr>\n",
       "    <tr>\n",
       "      <th>2015-02-25</th>\n",
       "      <td>17.525075</td>\n",
       "      <td>18.356762</td>\n",
       "    </tr>\n",
       "    <tr>\n",
       "      <th>2009-08-24</th>\n",
       "      <td>18.400864</td>\n",
       "      <td>18.541263</td>\n",
       "    </tr>\n",
       "    <tr>\n",
       "      <th>2013-11-29</th>\n",
       "      <td>17.679693</td>\n",
       "      <td>18.260868</td>\n",
       "    </tr>\n",
       "    <tr>\n",
       "      <th>2022-04-25</th>\n",
       "      <td>17.646931</td>\n",
       "      <td>17.734114</td>\n",
       "    </tr>\n",
       "    <tr>\n",
       "      <th>2019-03-06</th>\n",
       "      <td>16.976842</td>\n",
       "      <td>17.720842</td>\n",
       "    </tr>\n",
       "    <tr>\n",
       "      <th>2015-11-25</th>\n",
       "      <td>16.977266</td>\n",
       "      <td>18.056531</td>\n",
       "    </tr>\n",
       "    <tr>\n",
       "      <th>2010-12-15</th>\n",
       "      <td>18.277056</td>\n",
       "      <td>18.508499</td>\n",
       "    </tr>\n",
       "    <tr>\n",
       "      <th>2012-06-07</th>\n",
       "      <td>18.067851</td>\n",
       "      <td>18.540005</td>\n",
       "    </tr>\n",
       "    <tr>\n",
       "      <th>2023-08-16</th>\n",
       "      <td>17.042993</td>\n",
       "      <td>16.824465</td>\n",
       "    </tr>\n",
       "    <tr>\n",
       "      <th>2019-08-30</th>\n",
       "      <td>16.709432</td>\n",
       "      <td>17.740884</td>\n",
       "    </tr>\n",
       "    <tr>\n",
       "      <th>2010-09-17</th>\n",
       "      <td>19.233557</td>\n",
       "      <td>18.566394</td>\n",
       "    </tr>\n",
       "    <tr>\n",
       "      <th>2024-02-07</th>\n",
       "      <td>17.042708</td>\n",
       "      <td>16.241274</td>\n",
       "    </tr>\n",
       "    <tr>\n",
       "      <th>2019-11-25</th>\n",
       "      <td>16.976333</td>\n",
       "      <td>17.612201</td>\n",
       "    </tr>\n",
       "    <tr>\n",
       "      <th>2014-12-03</th>\n",
       "      <td>17.296012</td>\n",
       "      <td>18.296061</td>\n",
       "    </tr>\n",
       "    <tr>\n",
       "      <th>2013-07-01</th>\n",
       "      <td>18.048501</td>\n",
       "      <td>18.331661</td>\n",
       "    </tr>\n",
       "    <tr>\n",
       "      <th>2019-11-26</th>\n",
       "      <td>16.902454</td>\n",
       "      <td>17.526266</td>\n",
       "    </tr>\n",
       "    <tr>\n",
       "      <th>2022-05-10</th>\n",
       "      <td>17.501887</td>\n",
       "      <td>17.419855</td>\n",
       "    </tr>\n",
       "  </tbody>\n",
       "</table>\n",
       "</div>"
      ],
      "text/plain": [
       "            Actual ln(Volume)  Predicted ln(Volume)\n",
       "Date                                               \n",
       "2004-10-19          19.707700             18.723287\n",
       "2014-01-14          18.412696             18.325842\n",
       "2011-12-23          17.877502             18.442172\n",
       "2015-02-25          17.525075             18.356762\n",
       "2009-08-24          18.400864             18.541263\n",
       "2013-11-29          17.679693             18.260868\n",
       "2022-04-25          17.646931             17.734114\n",
       "2019-03-06          16.976842             17.720842\n",
       "2015-11-25          16.977266             18.056531\n",
       "2010-12-15          18.277056             18.508499\n",
       "2012-06-07          18.067851             18.540005\n",
       "2023-08-16          17.042993             16.824465\n",
       "2019-08-30          16.709432             17.740884\n",
       "2010-09-17          19.233557             18.566394\n",
       "2024-02-07          17.042708             16.241274\n",
       "2019-11-25          16.976333             17.612201\n",
       "2014-12-03          17.296012             18.296061\n",
       "2013-07-01          18.048501             18.331661\n",
       "2019-11-26          16.902454             17.526266\n",
       "2022-05-10          17.501887             17.419855"
      ]
     },
     "execution_count": 137,
     "metadata": {},
     "output_type": "execute_result"
    }
   ],
   "source": [
    "# Compares Actual ln(Volume) against Predicted ln(Volume)\n",
    "df_actual_vs_predicted_log_volume = pd.DataFrame({'Actual ln(Volume)': y_test, 'Predicted ln(Volume)': y_pred})\n",
    "df_actual_vs_predicted_log_volume.head(20)"
   ]
  },
  {
   "cell_type": "code",
   "execution_count": 138,
   "id": "50333d07",
   "metadata": {},
   "outputs": [
    {
     "name": "stdout",
     "output_type": "stream",
     "text": [
      "Mean Absolute Error: 0.55400408405443\n",
      "Mean Squared Error: 0.46343449011605364\n",
      "Root Mean Squared Error: 0.6807602295346384\n"
     ]
    }
   ],
   "source": [
    "# Evaluates the model\n",
    "print('Mean Absolute Error:', metrics.mean_absolute_error(y_test, y_pred))\n",
    "print('Mean Squared Error:', metrics.mean_squared_error(y_test, y_pred))\n",
    "print('Root Mean Squared Error:', np.sqrt(metrics.mean_squared_error(y_test, y_pred)))"
   ]
  },
  {
   "cell_type": "code",
   "execution_count": 139,
   "id": "81600a54",
   "metadata": {},
   "outputs": [
    {
     "name": "stdout",
     "output_type": "stream",
     "text": [
      "Coefficient of Determination: 0.5077914452979972\n"
     ]
    }
   ],
   "source": [
    "r_squared = regressor.score(x_test, y_test)\n",
    "print('Coefficient of Determination:', r_squared)"
   ]
  },
  {
   "cell_type": "code",
   "execution_count": 140,
   "id": "1d28c008",
   "metadata": {},
   "outputs": [
    {
     "name": "stdout",
     "output_type": "stream",
     "text": [
      "Intercept: 18.053042563650227\n"
     ]
    }
   ],
   "source": [
    "print('Intercept:', regressor.intercept_)"
   ]
  }
 ],
 "metadata": {
  "kernelspec": {
   "display_name": "Python 3 (ipykernel)",
   "language": "python",
   "name": "python3"
  },
  "language_info": {
   "codemirror_mode": {
    "name": "ipython",
    "version": 3
   },
   "file_extension": ".py",
   "mimetype": "text/x-python",
   "name": "python",
   "nbconvert_exporter": "python",
   "pygments_lexer": "ipython3",
   "version": "3.10.9"
  }
 },
 "nbformat": 4,
 "nbformat_minor": 5
}
